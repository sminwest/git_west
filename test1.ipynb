{
 "cells": [
  {
   "cell_type": "code",
   "execution_count": null,
   "id": "cb6535ef",
   "metadata": {},
   "outputs": [],
   "source": [
    "print(\"hi this is test file\")"
   ]
  },
  {
   "cell_type": "code",
   "execution_count": null,
   "id": "4489c929",
   "metadata": {},
   "outputs": [],
   "source": []
  }
 ],
 "metadata": {
  "kernelspec": {
   "display_name": "base",
   "language": "python",
   "name": "python3"
  },
  "language_info": {
   "name": "python",
   "version": "3.11.7"
  }
 },
 "nbformat": 4,
 "nbformat_minor": 5
}
